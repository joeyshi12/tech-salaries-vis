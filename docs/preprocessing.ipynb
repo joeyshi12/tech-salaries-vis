{
 "cells": [
  {
   "cell_type": "code",
   "id": "0e98b24f",
   "metadata": {
    "scrolled": true,
    "pycharm": {
     "name": "#%%\n"
    }
   },
   "source": [
    "import pandas as pd\n",
    "\n",
    "df = pd.read_csv(\"Levels_Fyi_Salary_Data.csv\")\n",
    "df"
   ],
   "execution_count": 1,
   "outputs": [
    {
     "data": {
      "text/plain": "                timestamp     company     level                         title  \\\n0       6/7/2017 11:33:27      Oracle        L3               Product Manager   \n1      6/10/2017 17:11:29        eBay      SE 2             Software Engineer   \n2      6/11/2017 14:53:57      Amazon        L7               Product Manager   \n3       6/17/2017 0:23:14       Apple        M1  Software Engineering Manager   \n4      6/20/2017 10:58:51   Microsoft        60             Software Engineer   \n...                   ...         ...       ...                           ...   \n62637   9/9/2018 11:52:32      Google        T4             Software Engineer   \n62638   9/13/2018 8:23:32   Microsoft        62             Software Engineer   \n62639  9/13/2018 14:35:59        MSFT        63             Software Engineer   \n62640  9/16/2018 16:10:35  Salesforce  Lead MTS             Software Engineer   \n62641   1/29/2019 5:12:59       apple      ict3             Software Engineer   \n\n       totalyearlycompensation           location  yearsofexperience  \\\n0                       127000   Redwood City, CA                1.5   \n1                       100000  San Francisco, CA                5.0   \n2                       310000        Seattle, WA                8.0   \n3                       372000      Sunnyvale, CA                7.0   \n4                       157000  Mountain View, CA                5.0   \n...                        ...                ...                ...   \n62637                   327000        Seattle, WA               10.0   \n62638                   237000        Redmond, WA                2.0   \n62639                   220000        Seattle, WA               14.0   \n62640                   280000  San Francisco, CA                8.0   \n62641                   200000      Sunnyvale, CA                0.0   \n\n       yearsatcompany                             tag  basesalary  ...  \\\n0                 1.5                             NaN    107000.0  ...   \n1                 3.0                             NaN         0.0  ...   \n2                 0.0                             NaN    155000.0  ...   \n3                 5.0                             NaN    157000.0  ...   \n4                 3.0                             NaN         0.0  ...   \n...               ...                             ...         ...  ...   \n62637             1.0  Distributed Systems (Back-End)    155000.0  ...   \n62638             2.0                      Full Stack    146900.0  ...   \n62639            12.0                      Full Stack    157000.0  ...   \n62640             4.0                             iOS    194688.0  ...   \n62641             0.0                         ML / AI    155000.0  ...   \n\n       Doctorate_Degree  Highschool Some_College Race_Asian  Race_White  \\\n0                     0           0            0          0           0   \n1                     0           0            0          0           0   \n2                     0           0            0          0           0   \n3                     0           0            0          0           0   \n4                     0           0            0          0           0   \n...                 ...         ...          ...        ...         ...   \n62637                 0           0            0          0           0   \n62638                 0           0            0          0           0   \n62639                 0           0            0          0           0   \n62640                 0           0            0          0           0   \n62641                 0           0            0          0           0   \n\n       Race_Two_Or_More  Race_Black  Race_Hispanic  Race  Education  \n0                     0           0              0   NaN        NaN  \n1                     0           0              0   NaN        NaN  \n2                     0           0              0   NaN        NaN  \n3                     0           0              0   NaN        NaN  \n4                     0           0              0   NaN        NaN  \n...                 ...         ...            ...   ...        ...  \n62637                 0           0              0   NaN        NaN  \n62638                 0           0              0   NaN        NaN  \n62639                 0           0              0   NaN        NaN  \n62640                 0           0              0   NaN        NaN  \n62641                 0           0              0   NaN        NaN  \n\n[62642 rows x 29 columns]",
      "text/html": "<div>\n<style scoped>\n    .dataframe tbody tr th:only-of-type {\n        vertical-align: middle;\n    }\n\n    .dataframe tbody tr th {\n        vertical-align: top;\n    }\n\n    .dataframe thead th {\n        text-align: right;\n    }\n</style>\n<table border=\"1\" class=\"dataframe\">\n  <thead>\n    <tr style=\"text-align: right;\">\n      <th></th>\n      <th>timestamp</th>\n      <th>company</th>\n      <th>level</th>\n      <th>title</th>\n      <th>totalyearlycompensation</th>\n      <th>location</th>\n      <th>yearsofexperience</th>\n      <th>yearsatcompany</th>\n      <th>tag</th>\n      <th>basesalary</th>\n      <th>...</th>\n      <th>Doctorate_Degree</th>\n      <th>Highschool</th>\n      <th>Some_College</th>\n      <th>Race_Asian</th>\n      <th>Race_White</th>\n      <th>Race_Two_Or_More</th>\n      <th>Race_Black</th>\n      <th>Race_Hispanic</th>\n      <th>Race</th>\n      <th>Education</th>\n    </tr>\n  </thead>\n  <tbody>\n    <tr>\n      <th>0</th>\n      <td>6/7/2017 11:33:27</td>\n      <td>Oracle</td>\n      <td>L3</td>\n      <td>Product Manager</td>\n      <td>127000</td>\n      <td>Redwood City, CA</td>\n      <td>1.5</td>\n      <td>1.5</td>\n      <td>NaN</td>\n      <td>107000.0</td>\n      <td>...</td>\n      <td>0</td>\n      <td>0</td>\n      <td>0</td>\n      <td>0</td>\n      <td>0</td>\n      <td>0</td>\n      <td>0</td>\n      <td>0</td>\n      <td>NaN</td>\n      <td>NaN</td>\n    </tr>\n    <tr>\n      <th>1</th>\n      <td>6/10/2017 17:11:29</td>\n      <td>eBay</td>\n      <td>SE 2</td>\n      <td>Software Engineer</td>\n      <td>100000</td>\n      <td>San Francisco, CA</td>\n      <td>5.0</td>\n      <td>3.0</td>\n      <td>NaN</td>\n      <td>0.0</td>\n      <td>...</td>\n      <td>0</td>\n      <td>0</td>\n      <td>0</td>\n      <td>0</td>\n      <td>0</td>\n      <td>0</td>\n      <td>0</td>\n      <td>0</td>\n      <td>NaN</td>\n      <td>NaN</td>\n    </tr>\n    <tr>\n      <th>2</th>\n      <td>6/11/2017 14:53:57</td>\n      <td>Amazon</td>\n      <td>L7</td>\n      <td>Product Manager</td>\n      <td>310000</td>\n      <td>Seattle, WA</td>\n      <td>8.0</td>\n      <td>0.0</td>\n      <td>NaN</td>\n      <td>155000.0</td>\n      <td>...</td>\n      <td>0</td>\n      <td>0</td>\n      <td>0</td>\n      <td>0</td>\n      <td>0</td>\n      <td>0</td>\n      <td>0</td>\n      <td>0</td>\n      <td>NaN</td>\n      <td>NaN</td>\n    </tr>\n    <tr>\n      <th>3</th>\n      <td>6/17/2017 0:23:14</td>\n      <td>Apple</td>\n      <td>M1</td>\n      <td>Software Engineering Manager</td>\n      <td>372000</td>\n      <td>Sunnyvale, CA</td>\n      <td>7.0</td>\n      <td>5.0</td>\n      <td>NaN</td>\n      <td>157000.0</td>\n      <td>...</td>\n      <td>0</td>\n      <td>0</td>\n      <td>0</td>\n      <td>0</td>\n      <td>0</td>\n      <td>0</td>\n      <td>0</td>\n      <td>0</td>\n      <td>NaN</td>\n      <td>NaN</td>\n    </tr>\n    <tr>\n      <th>4</th>\n      <td>6/20/2017 10:58:51</td>\n      <td>Microsoft</td>\n      <td>60</td>\n      <td>Software Engineer</td>\n      <td>157000</td>\n      <td>Mountain View, CA</td>\n      <td>5.0</td>\n      <td>3.0</td>\n      <td>NaN</td>\n      <td>0.0</td>\n      <td>...</td>\n      <td>0</td>\n      <td>0</td>\n      <td>0</td>\n      <td>0</td>\n      <td>0</td>\n      <td>0</td>\n      <td>0</td>\n      <td>0</td>\n      <td>NaN</td>\n      <td>NaN</td>\n    </tr>\n    <tr>\n      <th>...</th>\n      <td>...</td>\n      <td>...</td>\n      <td>...</td>\n      <td>...</td>\n      <td>...</td>\n      <td>...</td>\n      <td>...</td>\n      <td>...</td>\n      <td>...</td>\n      <td>...</td>\n      <td>...</td>\n      <td>...</td>\n      <td>...</td>\n      <td>...</td>\n      <td>...</td>\n      <td>...</td>\n      <td>...</td>\n      <td>...</td>\n      <td>...</td>\n      <td>...</td>\n      <td>...</td>\n    </tr>\n    <tr>\n      <th>62637</th>\n      <td>9/9/2018 11:52:32</td>\n      <td>Google</td>\n      <td>T4</td>\n      <td>Software Engineer</td>\n      <td>327000</td>\n      <td>Seattle, WA</td>\n      <td>10.0</td>\n      <td>1.0</td>\n      <td>Distributed Systems (Back-End)</td>\n      <td>155000.0</td>\n      <td>...</td>\n      <td>0</td>\n      <td>0</td>\n      <td>0</td>\n      <td>0</td>\n      <td>0</td>\n      <td>0</td>\n      <td>0</td>\n      <td>0</td>\n      <td>NaN</td>\n      <td>NaN</td>\n    </tr>\n    <tr>\n      <th>62638</th>\n      <td>9/13/2018 8:23:32</td>\n      <td>Microsoft</td>\n      <td>62</td>\n      <td>Software Engineer</td>\n      <td>237000</td>\n      <td>Redmond, WA</td>\n      <td>2.0</td>\n      <td>2.0</td>\n      <td>Full Stack</td>\n      <td>146900.0</td>\n      <td>...</td>\n      <td>0</td>\n      <td>0</td>\n      <td>0</td>\n      <td>0</td>\n      <td>0</td>\n      <td>0</td>\n      <td>0</td>\n      <td>0</td>\n      <td>NaN</td>\n      <td>NaN</td>\n    </tr>\n    <tr>\n      <th>62639</th>\n      <td>9/13/2018 14:35:59</td>\n      <td>MSFT</td>\n      <td>63</td>\n      <td>Software Engineer</td>\n      <td>220000</td>\n      <td>Seattle, WA</td>\n      <td>14.0</td>\n      <td>12.0</td>\n      <td>Full Stack</td>\n      <td>157000.0</td>\n      <td>...</td>\n      <td>0</td>\n      <td>0</td>\n      <td>0</td>\n      <td>0</td>\n      <td>0</td>\n      <td>0</td>\n      <td>0</td>\n      <td>0</td>\n      <td>NaN</td>\n      <td>NaN</td>\n    </tr>\n    <tr>\n      <th>62640</th>\n      <td>9/16/2018 16:10:35</td>\n      <td>Salesforce</td>\n      <td>Lead MTS</td>\n      <td>Software Engineer</td>\n      <td>280000</td>\n      <td>San Francisco, CA</td>\n      <td>8.0</td>\n      <td>4.0</td>\n      <td>iOS</td>\n      <td>194688.0</td>\n      <td>...</td>\n      <td>0</td>\n      <td>0</td>\n      <td>0</td>\n      <td>0</td>\n      <td>0</td>\n      <td>0</td>\n      <td>0</td>\n      <td>0</td>\n      <td>NaN</td>\n      <td>NaN</td>\n    </tr>\n    <tr>\n      <th>62641</th>\n      <td>1/29/2019 5:12:59</td>\n      <td>apple</td>\n      <td>ict3</td>\n      <td>Software Engineer</td>\n      <td>200000</td>\n      <td>Sunnyvale, CA</td>\n      <td>0.0</td>\n      <td>0.0</td>\n      <td>ML / AI</td>\n      <td>155000.0</td>\n      <td>...</td>\n      <td>0</td>\n      <td>0</td>\n      <td>0</td>\n      <td>0</td>\n      <td>0</td>\n      <td>0</td>\n      <td>0</td>\n      <td>0</td>\n      <td>NaN</td>\n      <td>NaN</td>\n    </tr>\n  </tbody>\n</table>\n<p>62642 rows × 29 columns</p>\n</div>"
     },
     "execution_count": 1,
     "metadata": {},
     "output_type": "execute_result"
    }
   ]
  },
  {
   "cell_type": "code",
   "execution_count": 2,
   "id": "017016ac-c382-46cd-b736-42dbc1929b49",
   "metadata": {},
   "outputs": [
    {
     "name": "stdout",
     "output_type": "stream",
     "text": [
      "company     1631\n",
      "title         15\n",
      "location    1050\n",
      "dtype: int64\n",
      "\n",
      "range(yearsofexperience): [0.0, 69.0]\n",
      "\n",
      "range(yearsatcompany): [0.0, 69.0]\n",
      "\n",
      "range(basesalary): [0.0, 1659870.0]\n"
     ]
    }
   ],
   "source": [
    "# Cardinalities and ranges\n",
    "categorical = [\"company\", \"title\", \"location\"]\n",
    "quantitative = [\"yearsofexperience\", \"yearsatcompany\", \"basesalary\"]\n",
    "\n",
    "print(df[categorical].apply(pd.Series.nunique))\n",
    "for attr in quantitative:\n",
    "    print(f\"\\nrange({attr}): {[df[attr].min(), df[attr].max()]}\")"
   ]
  },
  {
   "cell_type": "code",
   "execution_count": 3,
   "id": "902f6fe8",
   "metadata": {
    "scrolled": true
   },
   "outputs": [
    {
     "name": "stdout",
     "output_type": "stream",
     "text": [
      "Number of states = 48\n",
      "\n",
      "['California' 'Washington' 'New York' 'Maryland' 'Oregon' 'Texas'\n",
      " 'Massachusetts' 'Louisiana' 'Pennsylvania' 'South Carolina' 'Virginia'\n",
      " 'Colorado' 'Nebraska' 'Indiana' 'Wisconsin' 'Minnesota' 'Illinois'\n",
      " 'New Jersey' 'Arizona' 'Ohio' 'North Carolina' 'Florida' 'Georgia'\n",
      " 'Missouri' 'Rhode Island' 'Utah' 'Michigan' 'Connecticut' 'New Mexico'\n",
      " 'Arkansas' 'Vermont' 'Iowa' 'Kansas' 'New Hampshire' 'Idaho' 'Tennessee'\n",
      " 'Delaware' 'Alabama' 'Nevada' 'Kentucky' 'West Virginia' 'Oklahoma'\n",
      " 'Mississippi' 'Maine' 'Montana' 'North Dakota' 'Hawaii' 'Wyoming']\n"
     ]
    }
   ],
   "source": [
    "state_map = {\n",
    "    'AL': 'Alabama', 'AK': 'Alaska', 'AZ': 'Arizona', 'AR': 'Arkansas',\n",
    "    'CA': 'California', 'CO': 'Colorado', 'CT': 'Connecticut', 'DE': 'Delaware',\n",
    "    'FL': 'Florida', 'GA': 'Georgia', 'HI': 'Hawaii', 'ID': 'Idaho',\n",
    "    'IL': 'Illinois', 'IN': 'Indiana', 'IA': 'Iowa', 'KS': 'Kansas',\n",
    "    'KY': 'Kentucky', 'LA': 'Louisiana', 'ME': 'Maine', 'MD': 'Maryland',\n",
    "    'MA': 'Massachusetts', 'MI': 'Michigan', 'MN': 'Minnesota', 'MS': 'Mississippi',\n",
    "    'MO': 'Missouri', 'MT': 'Montana', 'NE': 'Nebraska', 'NV': 'Nevada',\n",
    "    'NH': 'New Hampshire', 'NJ': 'New Jersey', 'NM': 'New Mexico', 'NY': 'New York',\n",
    "    'NC': 'North Carolina', 'ND': 'North Dakota', 'OH': 'Ohio', 'OK': 'Oklahoma',\n",
    "    'OR': 'Oregon', 'PA': 'Pennsylvania', 'RI': 'Rhode Island', 'SC': 'South Carolina',\n",
    "    'SD': 'South Dakota', 'TN': 'Tennessee', 'TX': 'Texas', 'UT': 'Utah',\n",
    "    'VT': 'Vermont', 'VA': 'Virginia', 'WA': 'Washington', 'WV': 'West Virginia',\n",
    "    'WI': 'Wisconsin', 'WY': 'Wyoming'\n",
    "}\n",
    "\n",
    "def location_to_state(location):\n",
    "    tokens = location.split(\",\")\n",
    "    if len(tokens) != 2:\n",
    "        return None\n",
    "    if tokens[0] == \"Washington\": # Washington may appear first sometimes\n",
    "        return tokens[0]\n",
    "    code = tokens[1].strip()\n",
    "    if code not in state_map:\n",
    "        return None\n",
    "    return state_map[code]\n",
    "\n",
    "# Filter for american states\n",
    "locations = df[\"location\"]\n",
    "f = [False] * len(locations)\n",
    "for i, location in enumerate(locations):\n",
    "    if location_to_state(location) is not None:\n",
    "        f[i] = True\n",
    "\n",
    "filtered_df = df[f].copy()\n",
    "filtered_df[\"state\"] = filtered_df.apply(lambda row: location_to_state(row[\"location\"]), axis=1)\n",
    "states = filtered_df[\"state\"].unique()\n",
    "print(f\"Number of states = {len(states)}\\n\\n{states}\")"
   ]
  },
  {
   "cell_type": "code",
   "execution_count": 4,
   "id": "6b58e6f3",
   "metadata": {
    "pycharm": {
     "name": "#%%\n"
    }
   },
   "outputs": [
    {
     "data": {
      "text/plain": "[0.0, 465000.0]"
     },
     "execution_count": 4,
     "metadata": {},
     "output_type": "execute_result"
    }
   ],
   "source": [
    "cols = [\"basesalary\", \"yearsofexperience\", \"yearsatcompany\"]\n",
    "\n",
    "Q1 = filtered_df[cols].quantile(0.05)\n",
    "Q3 = filtered_df[cols].quantile(0.95)\n",
    "IQR = Q3 - Q1\n",
    "\n",
    "# Remove outliers in salary\n",
    "filtered_df = filtered_df[~((filtered_df[cols] < (Q1 - 1.5 * IQR)) |(filtered_df[cols] > (Q3 + 1.5 * IQR))).any(axis=1)]\n",
    "\n",
    "# Get min and max\n",
    "[filtered_df[cols].min()[0], filtered_df[cols].max()[0]]"
   ]
  },
  {
   "cell_type": "code",
   "execution_count": 5,
   "outputs": [
    {
     "data": {
      "text/plain": "                              title\nSoftware Engineer             41231\nProduct Manager                4673\nSoftware Engineering Manager   3569\nData Scientist                 2578\nHardware Engineer              2200\nProduct Designer               1516\nTechnical Program Manager      1381\nSolution Architect             1157\nManagement Consultant           976\nBusiness Analyst                885",
      "text/html": "<div>\n<style scoped>\n    .dataframe tbody tr th:only-of-type {\n        vertical-align: middle;\n    }\n\n    .dataframe tbody tr th {\n        vertical-align: top;\n    }\n\n    .dataframe thead th {\n        text-align: right;\n    }\n</style>\n<table border=\"1\" class=\"dataframe\">\n  <thead>\n    <tr style=\"text-align: right;\">\n      <th></th>\n      <th>title</th>\n    </tr>\n  </thead>\n  <tbody>\n    <tr>\n      <th>Software Engineer</th>\n      <td>41231</td>\n    </tr>\n    <tr>\n      <th>Product Manager</th>\n      <td>4673</td>\n    </tr>\n    <tr>\n      <th>Software Engineering Manager</th>\n      <td>3569</td>\n    </tr>\n    <tr>\n      <th>Data Scientist</th>\n      <td>2578</td>\n    </tr>\n    <tr>\n      <th>Hardware Engineer</th>\n      <td>2200</td>\n    </tr>\n    <tr>\n      <th>Product Designer</th>\n      <td>1516</td>\n    </tr>\n    <tr>\n      <th>Technical Program Manager</th>\n      <td>1381</td>\n    </tr>\n    <tr>\n      <th>Solution Architect</th>\n      <td>1157</td>\n    </tr>\n    <tr>\n      <th>Management Consultant</th>\n      <td>976</td>\n    </tr>\n    <tr>\n      <th>Business Analyst</th>\n      <td>885</td>\n    </tr>\n  </tbody>\n</table>\n</div>"
     },
     "execution_count": 5,
     "metadata": {},
     "output_type": "execute_result"
    }
   ],
   "source": [
    "# Filter for job roles with the top 10 record counts\n",
    "roles_df = pd.DataFrame(df['title'].value_counts().sort_values(ascending=False).head(10))\n",
    "roles_df"
   ],
   "metadata": {
    "collapsed": false,
    "pycharm": {
     "name": "#%%\n"
    }
   }
  },
  {
   "cell_type": "code",
   "execution_count": 6,
   "outputs": [],
   "source": [
    "top_roles = {\n",
    "    \"Software Engineer\",\n",
    "    \"Product Manager\",\n",
    "    \"Software Engineering Manager\",\n",
    "    \"Data Scientist\",\n",
    "    \"Hardware Engineer\",\n",
    "    \"Product Designer\",\n",
    "    \"Technical Program Manager\",\n",
    "    \"Solution Architect\",\n",
    "    \"Management Consultant\",\n",
    "    \"Business Analyst\"\n",
    "}\n",
    "filtered_df = filtered_df[filtered_df['title'].isin(top_roles)]"
   ],
   "metadata": {
    "collapsed": false,
    "pycharm": {
     "name": "#%%\n"
    }
   }
  },
  {
   "cell_type": "code",
   "execution_count": 7,
   "outputs": [
    {
     "data": {
      "text/plain": "          company                         title  yearsOfExperience  \\\n0          Oracle               Product Manager                1.5   \n1            Ebay             Software Engineer                5.0   \n2          Amazon               Product Manager                8.0   \n3           Apple  Software Engineering Manager                7.0   \n4       Microsoft             Software Engineer                5.0   \n...           ...                           ...                ...   \n62637      Google             Software Engineer               10.0   \n62638   Microsoft             Software Engineer                2.0   \n62639        Msft             Software Engineer               14.0   \n62640  Salesforce             Software Engineer                8.0   \n62641       Apple             Software Engineer                0.0   \n\n       yearsAtCompany  baseSalary       state  \n0                 1.5    107000.0  California  \n1                 3.0         0.0  California  \n2                 0.0    155000.0  Washington  \n3                 5.0    157000.0  California  \n4                 3.0         0.0  California  \n...               ...         ...         ...  \n62637             1.0    155000.0  Washington  \n62638             2.0    146900.0  Washington  \n62639            12.0    157000.0  Washington  \n62640             4.0    194688.0  California  \n62641             0.0    155000.0  California  \n\n[50491 rows x 6 columns]",
      "text/html": "<div>\n<style scoped>\n    .dataframe tbody tr th:only-of-type {\n        vertical-align: middle;\n    }\n\n    .dataframe tbody tr th {\n        vertical-align: top;\n    }\n\n    .dataframe thead th {\n        text-align: right;\n    }\n</style>\n<table border=\"1\" class=\"dataframe\">\n  <thead>\n    <tr style=\"text-align: right;\">\n      <th></th>\n      <th>company</th>\n      <th>title</th>\n      <th>yearsOfExperience</th>\n      <th>yearsAtCompany</th>\n      <th>baseSalary</th>\n      <th>state</th>\n    </tr>\n  </thead>\n  <tbody>\n    <tr>\n      <th>0</th>\n      <td>Oracle</td>\n      <td>Product Manager</td>\n      <td>1.5</td>\n      <td>1.5</td>\n      <td>107000.0</td>\n      <td>California</td>\n    </tr>\n    <tr>\n      <th>1</th>\n      <td>Ebay</td>\n      <td>Software Engineer</td>\n      <td>5.0</td>\n      <td>3.0</td>\n      <td>0.0</td>\n      <td>California</td>\n    </tr>\n    <tr>\n      <th>2</th>\n      <td>Amazon</td>\n      <td>Product Manager</td>\n      <td>8.0</td>\n      <td>0.0</td>\n      <td>155000.0</td>\n      <td>Washington</td>\n    </tr>\n    <tr>\n      <th>3</th>\n      <td>Apple</td>\n      <td>Software Engineering Manager</td>\n      <td>7.0</td>\n      <td>5.0</td>\n      <td>157000.0</td>\n      <td>California</td>\n    </tr>\n    <tr>\n      <th>4</th>\n      <td>Microsoft</td>\n      <td>Software Engineer</td>\n      <td>5.0</td>\n      <td>3.0</td>\n      <td>0.0</td>\n      <td>California</td>\n    </tr>\n    <tr>\n      <th>...</th>\n      <td>...</td>\n      <td>...</td>\n      <td>...</td>\n      <td>...</td>\n      <td>...</td>\n      <td>...</td>\n    </tr>\n    <tr>\n      <th>62637</th>\n      <td>Google</td>\n      <td>Software Engineer</td>\n      <td>10.0</td>\n      <td>1.0</td>\n      <td>155000.0</td>\n      <td>Washington</td>\n    </tr>\n    <tr>\n      <th>62638</th>\n      <td>Microsoft</td>\n      <td>Software Engineer</td>\n      <td>2.0</td>\n      <td>2.0</td>\n      <td>146900.0</td>\n      <td>Washington</td>\n    </tr>\n    <tr>\n      <th>62639</th>\n      <td>Msft</td>\n      <td>Software Engineer</td>\n      <td>14.0</td>\n      <td>12.0</td>\n      <td>157000.0</td>\n      <td>Washington</td>\n    </tr>\n    <tr>\n      <th>62640</th>\n      <td>Salesforce</td>\n      <td>Software Engineer</td>\n      <td>8.0</td>\n      <td>4.0</td>\n      <td>194688.0</td>\n      <td>California</td>\n    </tr>\n    <tr>\n      <th>62641</th>\n      <td>Apple</td>\n      <td>Software Engineer</td>\n      <td>0.0</td>\n      <td>0.0</td>\n      <td>155000.0</td>\n      <td>California</td>\n    </tr>\n  </tbody>\n</table>\n<p>50491 rows × 6 columns</p>\n</div>"
     },
     "execution_count": 7,
     "metadata": {},
     "output_type": "execute_result"
    }
   ],
   "source": [
    "columns = [\n",
    "    \"company\", \"title\", \"yearsofexperience\",\n",
    "    \"yearsatcompany\", \"basesalary\", \"state\"\n",
    "]\n",
    "\n",
    "name_map = {\n",
    "    \"yearsofexperience\": \"yearsOfExperience\",\n",
    "    \"yearsatcompany\": \"yearsAtCompany\",\n",
    "    \"basesalary\": \"baseSalary\",\n",
    "}\n",
    "\n",
    "final_df = filtered_df[columns].dropna().rename(columns=name_map)\n",
    "final_df[\"company\"] = final_df.apply(lambda row: row[\"company\"].title(), axis=1)\n",
    "final_df"
   ],
   "metadata": {
    "collapsed": false,
    "pycharm": {
     "name": "#%%\n"
    }
   }
  },
  {
   "cell_type": "code",
   "execution_count": 8,
   "outputs": [],
   "source": [
    "final_df.to_csv(\"salaries_data.csv\")\n"
   ],
   "metadata": {
    "collapsed": false,
    "pycharm": {
     "name": "#%%\n"
    }
   }
  }
 ],
 "metadata": {
  "kernelspec": {
   "display_name": "Python 3 (ipykernel)",
   "language": "python",
   "name": "python3"
  },
  "language_info": {
   "codemirror_mode": {
    "name": "ipython",
    "version": 3
   },
   "file_extension": ".py",
   "mimetype": "text/x-python",
   "name": "python",
   "nbconvert_exporter": "python",
   "pygments_lexer": "ipython3",
   "version": "3.11.2"
  }
 },
 "nbformat": 4,
 "nbformat_minor": 5
}